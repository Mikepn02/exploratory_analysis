{
 "cells": [
  {
   "cell_type": "code",
   "execution_count": 41,
   "id": "11c4a74e-9c8f-4548-a207-0fb78e4d7ce2",
   "metadata": {},
   "outputs": [
    {
     "name": "stdout",
     "output_type": "stream",
     "text": [
      "     A    B    C\n",
      "0  1.0  3.5  cat\n",
      "1  2.0  2.0  dog\n",
      "2  3.0  3.0  cat\n",
      "3  4.0  4.0  cat\n",
      "4  5.0  5.0  dog\n"
     ]
    },
    {
     "name": "stderr",
     "output_type": "stream",
     "text": [
      "C:\\Users\\nzabe\\AppData\\Local\\Temp\\ipykernel_33036\\2385578206.py:14: FutureWarning: A value is trying to be set on a copy of a DataFrame or Series through chained assignment using an inplace method.\n",
      "The behavior will change in pandas 3.0. This inplace method will never work because the intermediate object on which we are setting values always behaves as a copy.\n",
      "\n",
      "For example, when doing 'df[col].method(value, inplace=True)', try using 'df.method({col: value}, inplace=True)' or df[col] = df[col].method(value) instead, to perform the operation inplace on the original object.\n",
      "\n",
      "\n",
      "  df[\"A\"].fillna(df[\"A\"].mean(), inplace=True)\n",
      "C:\\Users\\nzabe\\AppData\\Local\\Temp\\ipykernel_33036\\2385578206.py:15: FutureWarning: A value is trying to be set on a copy of a DataFrame or Series through chained assignment using an inplace method.\n",
      "The behavior will change in pandas 3.0. This inplace method will never work because the intermediate object on which we are setting values always behaves as a copy.\n",
      "\n",
      "For example, when doing 'df[col].method(value, inplace=True)', try using 'df.method({col: value}, inplace=True)' or df[col] = df[col].method(value) instead, to perform the operation inplace on the original object.\n",
      "\n",
      "\n",
      "  df[\"B\"].fillna(df[\"B\"].mean(), inplace=True)\n",
      "C:\\Users\\nzabe\\AppData\\Local\\Temp\\ipykernel_33036\\2385578206.py:16: FutureWarning: A value is trying to be set on a copy of a DataFrame or Series through chained assignment using an inplace method.\n",
      "The behavior will change in pandas 3.0. This inplace method will never work because the intermediate object on which we are setting values always behaves as a copy.\n",
      "\n",
      "For example, when doing 'df[col].method(value, inplace=True)', try using 'df.method({col: value}, inplace=True)' or df[col] = df[col].method(value) instead, to perform the operation inplace on the original object.\n",
      "\n",
      "\n",
      "  df[\"C\"].fillna(df[\"C\"].mode()[0], inplace=True)\n"
     ]
    }
   ],
   "source": [
    "import pandas as pd\n",
    "from sklearn.impute import KNNImputer\n",
    "from sklearn.experimental import enable_iterative_imputer  # Enable IterativeImputer\n",
    "from sklearn.impute import IterativeImputer\n",
    "\n",
    "data = {\n",
    "    \"A\": [1, 2, None, 4, 5],\n",
    "    \"B\": [None, 2, 3, 4, 5],\n",
    "    \"C\": [\"cat\", \"dog\", None, \"cat\", \"dog\"]\n",
    "}\n",
    "\n",
    "df = pd.DataFrame(data)\n",
    "\n",
    "df[\"A\"].fillna(df[\"A\"].mean(), inplace=True)\n",
    "df[\"B\"].fillna(df[\"B\"].mean(), inplace=True)\n",
    "df[\"C\"].fillna(df[\"C\"].mode()[0], inplace=True)\n",
    "\n",
    "print(df)\n"
   ]
  },
  {
   "cell_type": "code",
   "execution_count": 33,
   "id": "3463be89-7b24-4b7b-bab6-7d5064603633",
   "metadata": {},
   "outputs": [
    {
     "name": "stdout",
     "output_type": "stream",
     "text": [
      "Here is original data frame: \n",
      "      A    B    C\n",
      "0  1.0  3.5  cat\n",
      "1  2.0  2.0  dog\n",
      "2  3.0  3.0  cat\n",
      "3  4.0  4.0  cat\n",
      "4  5.0  5.0  dog\n",
      "\n",
      "Imputed Data frame: \n",
      "      A    B  C_dog\n",
      "0  1.0  3.5    0.0\n",
      "1  2.0  2.0    1.0\n",
      "2  3.0  3.0    0.0\n",
      "3  4.0  4.0    0.0\n",
      "4  5.0  5.0    1.0\n"
     ]
    }
   ],
   "source": [
    "print(\"Here is original data frame: \\n\", df)\n",
    "\n",
    "imputer = KNNImputer(n_neighbors=2)\n",
    "df_encoded=pd.get_dummies(df, columns=[\"C\"], drop_first=True)\n",
    "imputed_data = imputer.fit_transform(df_encoded)\n",
    "imputed_df = pd.DataFrame(imputed_data,columns=df_encoded.columns)\n",
    "print(\"\\nImputed Data frame: \\n\", imputed_df)"
   ]
  },
  {
   "cell_type": "code",
   "execution_count": 47,
   "id": "3147aada-67f1-4384-ae26-4ef2257ae695",
   "metadata": {},
   "outputs": [
    {
     "name": "stdout",
     "output_type": "stream",
     "text": [
      "Original DataFrame with Missing Values:\n",
      "     A    B\n",
      "0  1.0  NaN\n",
      "1  2.0  2.0\n",
      "2  NaN  3.0\n",
      "3  3.0  4.0\n",
      "4  4.0  NaN\n",
      "\n",
      "Imputed DataFrame:\n",
      "     A         B\n",
      "0  1.0  0.000002\n",
      "1  2.0  2.000000\n",
      "2  2.5  3.000000\n",
      "3  3.0  4.000000\n",
      "4  4.0  5.999998\n"
     ]
    }
   ],
   "source": [
    "# Corrected Data\n",
    "data_2 = {\n",
    "    \"A\": [1, 2, None, 3, 4],\n",
    "    \"B\": [None, 2, 3, 4, None]\n",
    "}\n",
    "\n",
    "# Create DataFrame\n",
    "df_2 = pd.DataFrame(data_2)\n",
    "\n",
    "# Apply IterativeImputer\n",
    "imputer = IterativeImputer(max_iter=10, random_state=0)\n",
    "imputed_data = imputer.fit_transform(df_2)\n",
    "\n",
    "# Convert back to DataFrame for better readability\n",
    "imputed_df = pd.DataFrame(imputed_data, columns=df_2.columns)\n",
    "\n",
    "print(\"Original DataFrame with Missing Values:\")\n",
    "print(df_2)\n",
    "print(\"\\nImputed DataFrame:\")\n",
    "print(imputed_df)"
   ]
  },
  {
   "cell_type": "code",
   "execution_count": 51,
   "id": "4ee01982-93ef-4207-bc88-93e6ec2b1d2d",
   "metadata": {},
   "outputs": [
    {
     "name": "stdout",
     "output_type": "stream",
     "text": [
      "   Value  Forward_Fill  Backward_Fill\n",
      "0    1.0           1.0            1.0\n",
      "1    NaN           1.0            4.0\n",
      "2    NaN           1.0            4.0\n",
      "3    4.0           4.0            4.0\n",
      "4    5.0           5.0            5.0\n",
      "5    NaN           5.0            NaN\n"
     ]
    },
    {
     "name": "stderr",
     "output_type": "stream",
     "text": [
      "C:\\Users\\nzabe\\AppData\\Local\\Temp\\ipykernel_33036\\542444965.py:5: FutureWarning: Series.fillna with 'method' is deprecated and will raise in a future version. Use obj.ffill() or obj.bfill() instead.\n",
      "  df_3[\"Forward_Fill\"] = df_3[\"Value\"].fillna(method=\"ffill\")\n",
      "C:\\Users\\nzabe\\AppData\\Local\\Temp\\ipykernel_33036\\542444965.py:6: FutureWarning: Series.fillna with 'method' is deprecated and will raise in a future version. Use obj.ffill() or obj.bfill() instead.\n",
      "  df_3[\"Backward_Fill\"] = df_3[\"Value\"].fillna(method=\"bfill\")\n"
     ]
    }
   ],
   "source": [
    "data_3 = {\n",
    "    \"Value\": [1, None, None, 4, 5, None]\n",
    "}\n",
    "df_3 = pd.DataFrame(data_3)\n",
    "df_3[\"Forward_Fill\"] = df_3[\"Value\"].fillna(method=\"ffill\")\n",
    "df_3[\"Backward_Fill\"] = df_3[\"Value\"].fillna(method=\"bfill\")\n",
    "print(df_3)\n",
    "\n"
   ]
  },
  {
   "cell_type": "code",
   "execution_count": 61,
   "id": "a6656eea-d290-4664-9e69-d23e2839a5b4",
   "metadata": {},
   "outputs": [
    {
     "name": "stdout",
     "output_type": "stream",
     "text": [
      "   Value  Interpolated\n",
      "0    1.0           1.0\n",
      "1    NaN           2.0\n",
      "2    3.0           3.0\n",
      "3    NaN           4.0\n",
      "4    5.0           5.0\n"
     ]
    }
   ],
   "source": [
    "data_4 = {\n",
    "    \"Value\": [1, None, 3, None, 5]\n",
    "}\n",
    "df_4 = pd.DataFrame(data_4)\n",
    "df_4[\"Interpolated\"] = df_4[\"Value\"].interpolate()\n",
    "print(df_4)\n"
   ]
  },
  {
   "cell_type": "code",
   "execution_count": 63,
   "id": "e8ccde67-a58c-49e8-a62d-f75788de6c11",
   "metadata": {},
   "outputs": [
    {
     "name": "stdout",
     "output_type": "stream",
     "text": [
      "   Value\n",
      "0    1.0\n",
      "1    0.0\n",
      "2    3.0\n",
      "3    0.0\n",
      "4    5.0\n"
     ]
    },
    {
     "name": "stderr",
     "output_type": "stream",
     "text": [
      "C:\\Users\\nzabe\\AppData\\Local\\Temp\\ipykernel_33036\\4091814575.py:5: FutureWarning: A value is trying to be set on a copy of a DataFrame or Series through chained assignment using an inplace method.\n",
      "The behavior will change in pandas 3.0. This inplace method will never work because the intermediate object on which we are setting values always behaves as a copy.\n",
      "\n",
      "For example, when doing 'df[col].method(value, inplace=True)', try using 'df.method({col: value}, inplace=True)' or df[col] = df[col].method(value) instead, to perform the operation inplace on the original object.\n",
      "\n",
      "\n",
      "  df_5[\"Value\"].fillna(0, inplace=True)\n"
     ]
    }
   ],
   "source": [
    "data_5 = {\n",
    "    \"Value\": [1, None, 3, None, 5]\n",
    "}\n",
    "df_5 = pd.DataFrame(data_5)\n",
    "df_5[\"Value\"].fillna(0, inplace=True)\n",
    "print(df_5)\n"
   ]
  },
  {
   "cell_type": "code",
   "execution_count": null,
   "id": "33e9cdbc-d59f-4413-a242-972850ff23cf",
   "metadata": {},
   "outputs": [],
   "source": []
  },
  {
   "cell_type": "code",
   "execution_count": null,
   "id": "be0c85ce-4476-47d5-9697-ba64ff647522",
   "metadata": {},
   "outputs": [],
   "source": []
  }
 ],
 "metadata": {
  "kernelspec": {
   "display_name": "Python 3 (ipykernel)",
   "language": "python",
   "name": "python3"
  },
  "language_info": {
   "codemirror_mode": {
    "name": "ipython",
    "version": 3
   },
   "file_extension": ".py",
   "mimetype": "text/x-python",
   "name": "python",
   "nbconvert_exporter": "python",
   "pygments_lexer": "ipython3",
   "version": "3.12.7"
  }
 },
 "nbformat": 4,
 "nbformat_minor": 5
}
